{
 "cells": [
  {
   "cell_type": "code",
   "execution_count": 14,
   "metadata": {},
   "outputs": [],
   "source": [
    "from dataclasses import dataclass\n",
    "import numpy as np\n",
    "import matplotlib.pyplot as plt\n",
    "from scipy.stats import norm\n",
    "\n",
    "np.seterr(divide='ignore', invalid='ignore')\n",
    "np.random.seed(20221104)"
   ]
  },
  {
   "cell_type": "code",
   "execution_count": 133,
   "metadata": {},
   "outputs": [],
   "source": [
    "\"\"\"collection of useful analytic functions under Black-Scholes framework\"\"\"\n",
    "def call_price(S, T, K, sigma, r):\n",
    "    dp = (np.log(S/K) + (r+0.5*sigma**2)*T)/(np.sqrt(T)*sigma)\n",
    "    dm = (np.log(S/K) + (r-0.5*sigma**2)*T)/(np.sqrt(T)*sigma)\n",
    "    return S*norm.cdf(dp) - K*np.exp(-r*T)*norm.cdf(dm)\n",
    "\n",
    "def put_price(S, T, K, sigma, r):\n",
    "    dp = (np.log(S/K) + (r+0.5*sigma**2)*T)/np.sqrt(T)/sigma\n",
    "    dm = (np.log(S/K) + (r-0.5*sigma**2)*T)/np.sqrt(T)/sigma\n",
    "    return K*np.exp(-r*T)*norm.cdf(-dm) - S*norm.cdf(-dp)\n",
    "\n",
    "def call_Delta(S, T, K, sigma, r):\n",
    "    dp = (np.log(S/K) + (r+0.5*sigma**2)*T)/np.sqrt(T)/sigma\n",
    "    return norm.cdf(dp)\n",
    "\n",
    "def put_Delta(S, T, K, sigma, r):\n",
    "    return call_Delta(S, T, K, sigma, r) - 1\n",
    "\n",
    "def call_Gamma(S, T, K, sigma, r):\n",
    "    dp = (np.log(S/K) + (r+0.5*sigma**2)*T)/np.sqrt(T)/sigma\n",
    "    return norm.pdf(dp)/(S*sigma*np.sqrt(T))\n",
    "\n",
    "def put_Gamma(S, T, K, sigma, r):\n",
    "    return call_Gamma(S, T, K, sigma, r)\n",
    "    \n",
    "    \n",
    "def sim(S_0, mu, sigma, N, T, N_paths):\n",
    "    \"\"\"generate simulated paths assuming geometric Brownian motion\"\"\"\n",
    "    delta_t = T / N\n",
    "    paths = np.full((N_paths, N+1), np.nan)\n",
    "    paths[:, 0] = S_0\n",
    "    for i in range(N):\n",
    "        W = np.random.normal(0, np.sqrt(delta_t), N_paths)  # Wiener increments\n",
    "        paths[:, i+1] = paths[:, i] * np.exp((mu - 0.5*sigma**2)*delta_t + sigma*W)\n",
    "    return paths\n",
    "\n",
    "\n",
    "def VaR(lst, q):\n",
    "    return np.percentile(lst, 100*(1-q))\n",
    "\n",
    "\n",
    "def CVaR(lst, q):\n",
    "    var = VaR(lst, q)\n",
    "    return np.mean(lst[lst<=var])"
   ]
  },
  {
   "cell_type": "code",
   "execution_count": 132,
   "metadata": {},
   "outputs": [],
   "source": [
    "\"\"\"hedger class\"\"\"\n",
    "\"\"\"this assumes we are hedging 1 unit of put option in short position using bank account, underlying equity, and call option\"\"\"\n",
    "\n",
    "@dataclass\n",
    "class HedgeResult:\n",
    "    alpha: np.array = None\n",
    "    beta: np.array = None\n",
    "    eta: np.array = None\n",
    "\n",
    "\n",
    "class Hedger:\n",
    "    def __init__(self, S, N, T_call, T_put, r, sigma, K_call, K_put, cost_equity, cost_option, band_size, edge_bands):\n",
    "        # simulation\n",
    "        self.S = S\n",
    "        \n",
    "        # parameters\n",
    "        self.N = N\n",
    "        self.T_call = T_call\n",
    "        self.T_put = T_put\n",
    "        self.r = r\n",
    "        self.sigma = sigma\n",
    "        self.K_call = K_call\n",
    "        self.K_put = K_put\n",
    "        self.cost_equity = cost_equity\n",
    "        self.cost_option = cost_option\n",
    "        self.band_size = band_size\n",
    "        self.lower_edge, self.upper_edge = edge_bands\n",
    "        \n",
    "        # variables\n",
    "        self.td_result = HedgeResult()\n",
    "        self.tdg_result = HedgeResult()\n",
    "        self.md_result = HedgeResult()\n",
    "        self.mdg_result = HedgeResult()\n",
    "    \n",
    "    def hedge(self, hedge_type, convexity):\n",
    "        if hedge_type not in ('time', 'move'):\n",
    "            raise ValueError(\"the argument 'hedge_type' must be either 'time' or 'move'\")\n",
    "        if convexity not in ('delta', 'delta-gamma'):\n",
    "            raise ValueError(\"the argument 'convexity' must be either 'delta' or 'delta-gamma'\")\n",
    "        if hedge_type == 'time':\n",
    "            self._time_based_hedge(convexity)\n",
    "        else:\n",
    "            self._move_based_hedge(convexity)\n",
    "            \n",
    "    def hedge_all(self):\n",
    "        for convexity in ('delta', 'delta-gamma'):\n",
    "            self._time_based_hedge(convexity)\n",
    "            self._move_based_hedge(convexity)\n",
    "    \n",
    "    def _time_based_hedge(self, convexity):\n",
    "        delta_t = self.T_put / self.N\n",
    "        alpha = np.full((self.S.shape[0], self.S.shape[1]-1), np.nan)  # number of equity shares\n",
    "        beta = np.full((self.S.shape[0], self.S.shape[1]), np.nan)  # amount in bank account\n",
    "        eta = np.full((self.S.shape[0], self.S.shape[1]-1), 0.0)  # number of option shares\n",
    "        \n",
    "        # t = 0\n",
    "        if convexity == 'delta-gamma':\n",
    "            eta[:, 0] = put_Gamma(self.S[:, 0], self.T_put, self.K_put, self.sigma, self.r) / call_Gamma(self.S[:, 0], self.T_call, self.K_put, self.sigma, self.r)\n",
    "        alpha[:, 0] = put_Delta(self.S[:, 0], self.T_put, self.K_put, self.sigma, self.r) - eta[:, 0]*call_Delta(self.S[:, 0], self.T_call, self.K_call, self.sigma, self.r)\n",
    "        transaction_cost = self.cost_equity * np.abs(alpha[:, 0]) + self.cost_option * np.abs(eta[:, 0])\n",
    "        beta[:, 0] = put_price(self.S[:, 0], self.T_put, self.K_put, self.sigma, self.r) - alpha[:, 0]*self.S[:, 0] - eta[:, 0]*call_price(self.S[:, 0], self.T_call, self.K_call, self.sigma, self.r) - transaction_cost\n",
    "        \n",
    "        for n in range(1, self.N):\n",
    "            t = n * delta_t\n",
    "            if convexity == 'delta-gamma':\n",
    "                eta[:, n] = put_Gamma(self.S[:, n], self.T_put-t, self.K_put, self.sigma, self.r) / call_Gamma(self.S[:, 0], self.T_call-t, self.K_put, self.sigma, self.r)\n",
    "            alpha[:, n] = put_Delta(self.S[:, n], self.T_put-t, self.K_put, self.sigma, self.r) - eta[:, n]*call_Delta(self.S[:, n], self.T_call-t, self.K_call, self.sigma, self.r)\n",
    "            transaction_cost = self.cost_equity * np.abs(alpha[:, n] - alpha[:, n-1]) + self.cost_option * np.abs(eta[:, n] - eta[:, n-1])\n",
    "            beta[:, n] = beta[:, n-1]*np.exp(self.r*delta_t) - (alpha[:, n] - alpha[:, n-1])*self.S[:, n] - (eta[:, n] - eta[:, n-1])*call_price(self.S[:, n], self.T_call-t, self.K_call, self.sigma, self.r) - transaction_cost\n",
    "        \n",
    "        # t = T\n",
    "        payoff = np.maximum(self.K_put - self.S[:, self.N], 0)\n",
    "        transaction_cost = self.cost_equity * np.abs(alpha[:, self.N-1]) + self.cost_option * np.abs(eta[:, self.N-1])\n",
    "        beta[:, self.N] = beta[:, self.N-1]*np.exp(self.r*delta_t) + alpha[:, self.N-1]*self.S[:, self.N] + eta[:, self.N-1]*call_price(self.S[:, self.N], self.T_call-self.T_put, self.K_call, self.sigma, self.r) - payoff - transaction_cost\n",
    "        \n",
    "        # store the results\n",
    "        if convexity == 'delta-gamma':\n",
    "            self.tdg_result = HedgeResult(alpha, beta, eta)\n",
    "        else:\n",
    "            self.td_result = HedgeResult(alpha, beta, None)\n",
    "    \n",
    "    def _move_based_hedge(self, convexity):\n",
    "        delta_t = self.T_put / self.N\n",
    "        alpha = np.full((self.S.shape[0], self.S.shape[1]-1), np.nan)  # number of equity shares\n",
    "        beta = np.full((self.S.shape[0], self.S.shape[1]), np.nan)  # amount in bank account\n",
    "        eta = np.full((self.S.shape[0], self.S.shape[1]-1), 0.0)  # number of option shares\n",
    "        \n",
    "        # t = 0\n",
    "        if convexity == 'delta-gamma':\n",
    "            eta[:, 0] = put_Gamma(self.S[:, 0], self.T_put, self.K_put, self.sigma, self.r) / call_Gamma(self.S[:, 0], self.T_call, self.K_put, self.sigma, self.r)\n",
    "        alpha[:, 0] = put_Delta(self.S[:, 0], self.T_put, self.K_put, self.sigma, self.r) - eta[:, 0]*call_Delta(self.S[:, 0], self.T_call, self.K_call, self.sigma, self.r)\n",
    "        transaction_cost = self.cost_equity * np.abs(alpha[:, 0]) + self.cost_option * np.abs(eta[:, 0])\n",
    "        beta[:, 0] = put_price(self.S[:, 0], self.T_put, self.K_put, self.sigma, self.r) - alpha[:, 0]*self.S[:, 0] - eta[:, 0]*call_price(self.S[:, 0], self.T_call, self.K_call, self.sigma, self.r) - transaction_cost\n",
    "        \n",
    "        last_update = np.zeros(shape=(self.S.shape[0],))\n",
    "        for n in range(1, self.N):\n",
    "            lower_band, upper_band = np.maximum(alpha[:, n-1] - self.band_size/2, self.lower_edge), np.minimum(alpha[:, n-1] + self.band_size/2, self.upper_edge)\n",
    "            t = n * delta_t\n",
    "            current_Delta = put_Delta(self.S[:, n], self.T_put-t, self.K_put, self.sigma, self.r)\n",
    "            last_update[(current_Delta < lower_band) | (current_Delta > upper_band)] = n\n",
    "            if convexity == 'delta-gamma':\n",
    "                eta[:, n] = eta[:, n-1]\n",
    "                eta[last_update == n, n] = (put_Gamma(self.S[:, n], self.T_put-t, self.K_put, self.sigma, self.r) / call_Gamma(self.S[:, 0], self.T_call-t, self.K_put, self.sigma, self.r))[last_update == n]\n",
    "            alpha[:, n] = alpha[:, n-1]\n",
    "            alpha[last_update == n, n] = (put_Delta(self.S[:, n], self.T_put-t, self.K_put, self.sigma, self.r) - eta[:, n]*call_Delta(self.S[:, n], self.T_call-t, self.K_call, self.sigma, self.r))[last_update == n]\n",
    "            transaction_cost = self.cost_equity * np.abs(alpha[:, n] - alpha[:, n-1]) + self.cost_option * np.abs(eta[:, n] - eta[:, n-1])\n",
    "            beta[:, n] = beta[:, n-1]*np.exp(self.r*delta_t) - (alpha[:, n] - alpha[:, n-1])*self.S[:, n] - (eta[:, n] - eta[:, n-1])*call_price(self.S[:, n], self.T_call-t, self.K_call, self.sigma, self.r) - transaction_cost\n",
    "        \n",
    "        # t = T\n",
    "        payoff = np.maximum(self.K_put - self.S[:, self.N], 0)\n",
    "        transaction_cost = self.cost_equity * np.abs(alpha[:, self.N-1]) + self.cost_option * np.abs(eta[:, self.N-1])\n",
    "        beta[:, self.N] = beta[:, self.N-1]*np.exp(self.r*delta_t) + alpha[:, self.N-1]*self.S[:, self.N] + eta[:, self.N-1]*call_price(self.S[:, self.N], self.T_call-self.T_put, self.K_call, self.sigma, self.r) - payoff - transaction_cost\n",
    "        \n",
    "        # store the results\n",
    "        if convexity == 'delta-gamma':\n",
    "            self.mdg_result = HedgeResult(alpha, beta, eta)\n",
    "        else:\n",
    "            self.md_result = HedgeResult(alpha, beta, None)"
   ]
  },
  {
   "cell_type": "code",
   "execution_count": 146,
   "metadata": {},
   "outputs": [],
   "source": [
    "\"\"\"main run\"\"\"\n",
    "np.random.seed(1928)\n",
    "\n",
    "S_0 = 100\n",
    "sigma = 0.2\n",
    "mu = 0.1\n",
    "r = 0.02\n",
    "T_call = 0.5\n",
    "T_put = 0.25\n",
    "K_call = 100\n",
    "K_put = 100\n",
    "cost_equity = 0.005\n",
    "cost_option = 0.01\n",
    "# cost_equity = 0.0\n",
    "# cost_option = 0.0\n",
    "band_size = 0.1\n",
    "edge_bands = (-0.99, -0.01)\n",
    "N_paths = 5000\n",
    "N = 90\n",
    "\n",
    "S = sim(S_0, mu, sigma, N, T_put, N_paths)\n",
    "hedger = Hedger(S, N, T_call, T_put, r, sigma, K_call, K_put, cost_equity, cost_option, band_size, edge_bands)\n",
    "hedger.hedge_all()"
   ]
  },
  {
   "cell_type": "code",
   "execution_count": 147,
   "metadata": {},
   "outputs": [
    {
     "name": "stdout",
     "output_type": "stream",
     "text": [
      "CVaR: -0.6847802172845858\n"
     ]
    },
    {
     "data": {
      "image/png": "[encoded data removed]",
      "text/plain": [
       "<Figure size 640x480 with 1 Axes>"
      ]
     },
     "metadata": {},
     "output_type": "display_data"
    }
   ],
   "source": [
    "# time-based Delta hedging\n",
    "print(f\"CVaR: {CVaR(hedger.td_result.beta[:, -1], 0.90)}\")\n",
    "\n",
    "fig, ax = plt.subplots()\n",
    "ax.hist(hedger.td_result.beta[:, -1], bins=20)\n",
    "plt.show()"
   ]
  },
  {
   "cell_type": "code",
   "execution_count": 148,
   "metadata": {},
   "outputs": [
    {
     "name": "stdout",
     "output_type": "stream",
     "text": [
      "CVaR: -0.377324547170325\n"
     ]
    },
    {
     "data": {
      "image/png": "[encoded data removed]",
      "text/plain": [
       "<Figure size 640x480 with 1 Axes>"
      ]
     },
     "metadata": {},
     "output_type": "display_data"
    }
   ],
   "source": [
    "# time-based Delta-Gamma hedging\n",
    "print(f\"CVaR: {CVaR(hedger.tdg_result.beta[:, -1], 0.90)}\")\n",
    "\n",
    "fig, ax = plt.subplots()\n",
    "ax.hist(hedger.tdg_result.beta[:, -1], bins=20)\n",
    "plt.show()"
   ]
  },
  {
   "cell_type": "code",
   "execution_count": 149,
   "metadata": {},
   "outputs": [
    {
     "name": "stdout",
     "output_type": "stream",
     "text": [
      "CVaR: -0.7680597942827483\n"
     ]
    },
    {
     "data": {
      "image/png": "[encoded data removed]",
      "text/plain": [
       "<Figure size 640x480 with 1 Axes>"
      ]
     },
     "metadata": {},
     "output_type": "display_data"
    }
   ],
   "source": [
    "# move-based Delta hedging\n",
    "print(f\"CVaR: {CVaR(hedger.md_result.beta[:, -1], 0.90)}\")\n",
    "\n",
    "fig, ax = plt.subplots()\n",
    "ax.hist(hedger.md_result.beta[:, -1], bins=20)\n",
    "plt.show()"
   ]
  },
  {
   "cell_type": "code",
   "execution_count": 150,
   "metadata": {},
   "outputs": [
    {
     "name": "stdout",
     "output_type": "stream",
     "text": [
      "CVaR: -0.3774773340902351\n"
     ]
    },
    {
     "data": {
      "image/png": "[encoded data removed]",
      "text/plain": [
       "<Figure size 640x480 with 1 Axes>"
      ]
     },
     "metadata": {},
     "output_type": "display_data"
    }
   ],
   "source": [
    "# move-based Delta-Gamma hedging\n",
    "print(f\"CVaR: {CVaR(hedger.mdg_result.beta[:, -1], 0.90)}\")\n",
    "\n",
    "fig, ax = plt.subplots()\n",
    "ax.hist(hedger.mdg_result.beta[:, -1], bins=20)\n",
    "plt.show()"
   ]
  }
 ],
 "metadata": {
  "kernelspec": {
   "display_name": "Python 3.8.0 ('venv': venv)",
   "language": "python",
   "name": "python3"
  },
  "language_info": {
   "codemirror_mode": {
    "name": "ipython",
    "version": 3
   },
   "file_extension": ".py",
   "mimetype": "text/x-python",
   "name": "python",
   "nbconvert_exporter": "python",
   "pygments_lexer": "ipython3",
   "version": "3.8.0"
  },
  "orig_nbformat": 4,
  "vscode": {
   "interpreter": {
    "hash": "8fbde670425d399adcef147aa0109f65d6f8a1fc83f03ee3511abdf2c3030d25"
   }
  }
 },
 "nbformat": 4,
 "nbformat_minor": 2
}
